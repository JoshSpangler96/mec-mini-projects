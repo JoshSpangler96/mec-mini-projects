{
 "cells": [
  {
   "cell_type": "markdown",
   "metadata": {},
   "source": [
    "# Data Wrangling with Quandl"
   ]
  },
  {
   "cell_type": "markdown",
   "metadata": {},
   "source": [
    "### Import the relevant Modules"
   ]
  },
  {
   "cell_type": "markdown",
   "metadata": {},
   "source": [
    "Detailed Quandl API instructions here: https://docs.quandl.com/docs/time-series"
   ]
  },
  {
   "cell_type": "code",
   "execution_count": 1,
   "metadata": {},
   "outputs": [],
   "source": [
    "import requests\n",
    "import json"
   ]
  },
  {
   "cell_type": "code",
   "execution_count": 2,
   "metadata": {},
   "outputs": [],
   "source": [
    "# Store the API - Get key by registering to http://www.quandl.com \n",
    "# Select the desired stock ticker, start date, and end date - save each parameter as a string\n",
    "API_KEY = ''\n",
    "STOCK_TICKER = 'AFX_X'\n",
    "START_DATE = '2017-01-01'\n",
    "END_DATE = '2017-12-31'"
   ]
  },
  {
   "cell_type": "markdown",
   "metadata": {},
   "source": [
    "### Getting a glimpse at the data"
   ]
  },
  {
   "cell_type": "code",
   "execution_count": 3,
   "metadata": {},
   "outputs": [
    {
     "data": {
      "text/plain": [
       "{'dataset': {'id': 10095370,\n",
       "  'dataset_code': 'AFX_X',\n",
       "  'database_code': 'FSE',\n",
       "  'name': 'Carl Zeiss Meditec (AFX_X)',\n",
       "  'description': 'Stock Prices for Carl Zeiss Meditec (2020-11-02) from the Frankfurt Stock Exchange.<br><br>Trading System: Xetra<br><br>ISIN: DE0005313704',\n",
       "  'refreshed_at': '2020-12-01T14:48:09.907Z',\n",
       "  'newest_available_date': '2020-12-01',\n",
       "  'oldest_available_date': '2000-06-07',\n",
       "  'column_names': ['Date',\n",
       "   'Open',\n",
       "   'High',\n",
       "   'Low',\n",
       "   'Close',\n",
       "   'Change',\n",
       "   'Traded Volume',\n",
       "   'Turnover',\n",
       "   'Last Price of the Day',\n",
       "   'Daily Traded Units',\n",
       "   'Daily Turnover'],\n",
       "  'frequency': 'daily',\n",
       "  'type': 'Time Series',\n",
       "  'premium': False,\n",
       "  'limit': None,\n",
       "  'transform': None,\n",
       "  'column_index': None,\n",
       "  'start_date': '2021-09-01',\n",
       "  'end_date': '2020-12-01',\n",
       "  'data': [],\n",
       "  'collapse': None,\n",
       "  'order': None,\n",
       "  'database_id': 6129}}"
      ]
     },
     "execution_count": 3,
     "metadata": {},
     "output_type": "execute_result"
    }
   ],
   "source": [
    "# JSON structure will be returned\n",
    "params = {'api-key': API_KEY}\n",
    "req = requests.get(\n",
    "    f'https://www.quandl.com/api/v3/datasets/FSE/{STOCK_TICKER}.json?&start_date=2021-09-01&end_date=2021-09-01', \n",
    "    params=params\n",
    ")\n",
    "req_json = req.json()\n",
    "req_json"
   ]
  },
  {
   "cell_type": "code",
   "execution_count": 4,
   "metadata": {},
   "outputs": [
    {
     "name": "stdout",
     "output_type": "stream",
     "text": [
      "AFX_X - Data properly imported\n"
     ]
    }
   ],
   "source": [
    "# Check the staus code (Status code of 200 means data is imported properly)\n",
    "code = req.status_code\n",
    "if code == requests.codes.ok:\n",
    "    print(f'{STOCK_TICKER} - Data properly imported')\n",
    "else:\n",
    "    print(f'Requests Error {code}: {requests.status_codes._codes[code][0]}')"
   ]
  },
  {
   "cell_type": "markdown",
   "metadata": {},
   "source": [
    "\n",
    "### 1. Collect data from the Franfurt Stock Exchange, for the ticker AFX_X, for the whole year 2017 \n"
   ]
  },
  {
   "cell_type": "code",
   "execution_count": 5,
   "metadata": {},
   "outputs": [],
   "source": [
    "# collect the stock exchange data using the start date, end date, and stock ticker\n",
    "stock_params = {'api-key': API_KEY, 'start_date': START_DATE, 'end_date': END_DATE}\n",
    "stock_req = requests.get(\n",
    "    f'https://www.quandl.com/api/v3/datasets/FSE/{STOCK_TICKER}.json?', \n",
    "    params=stock_params\n",
    ")"
   ]
  },
  {
   "cell_type": "code",
   "execution_count": 6,
   "metadata": {},
   "outputs": [
    {
     "name": "stdout",
     "output_type": "stream",
     "text": [
      "AFX_X - Data properly imported\n"
     ]
    }
   ],
   "source": [
    "# Check Status Code \n",
    "stock_code = stock_req.status_code\n",
    "if stock_code == requests.codes.ok:\n",
    "    print(f'{STOCK_TICKER} - Data properly imported')\n",
    "else:\n",
    "    print(f'Requests Error {stock_code}: {requests.status_codes._codes[code][0]}')"
   ]
  },
  {
   "cell_type": "markdown",
   "metadata": {},
   "source": [
    "### 2. Convert the returned JSON object into a Python dictionary."
   ]
  },
  {
   "cell_type": "code",
   "execution_count": 7,
   "metadata": {},
   "outputs": [
    {
     "data": {
      "text/plain": [
       "dict"
      ]
     },
     "execution_count": 7,
     "metadata": {},
     "output_type": "execute_result"
    }
   ],
   "source": [
    "# used the standard python package 'json' to turn json object into a dict\n",
    "stock_json = stock_req.json()\n",
    "type(stock_json)"
   ]
  },
  {
   "cell_type": "markdown",
   "metadata": {},
   "source": [
    "### 3. Calculate what the highest and lowest opening prices were for the stock in this period."
   ]
  },
  {
   "cell_type": "code",
   "execution_count": 8,
   "metadata": {},
   "outputs": [
    {
     "data": {
      "text/plain": [
       "['Date',\n",
       " 'Open',\n",
       " 'High',\n",
       " 'Low',\n",
       " 'Close',\n",
       " 'Change',\n",
       " 'Traded Volume',\n",
       " 'Turnover',\n",
       " 'Last Price of the Day',\n",
       " 'Daily Traded Units',\n",
       " 'Daily Turnover']"
      ]
     },
     "execution_count": 8,
     "metadata": {},
     "output_type": "execute_result"
    }
   ],
   "source": [
    "stock_json['dataset']['column_names']"
   ]
  },
  {
   "cell_type": "code",
   "execution_count": 9,
   "metadata": {},
   "outputs": [
    {
     "data": {
      "text/plain": [
       "[51.76,\n",
       " 51.65,\n",
       " 51.45,\n",
       " 51.05,\n",
       " 51.16,\n",
       " 51.88,\n",
       " 52.73,\n",
       " 52.37,\n",
       " 52.7,\n",
       " 53.11,\n",
       " 52.64,\n",
       " 52.29,\n",
       " 52.28,\n",
       " 51.5,\n",
       " 50.89,\n",
       " 50.8,\n",
       " 51.21,\n",
       " 49.5,\n",
       " 49.52,\n",
       " 48.64]"
      ]
     },
     "execution_count": 9,
     "metadata": {},
     "output_type": "execute_result"
    }
   ],
   "source": [
    "# Get the index 'Open' in dataset\n",
    "open_idx = stock_json['dataset']['column_names'].index('Open')\n",
    "\n",
    "# Create a list of all opening pricese over the time period\n",
    "data_points = stock_json['dataset']['data']\n",
    "\n",
    "opening = [x[open_idx] for x in data_points if x[open_idx] is not None]\n",
    "#display the first 20 elements of opening\n",
    "opening[0:20]"
   ]
  },
  {
   "cell_type": "code",
   "execution_count": 10,
   "metadata": {},
   "outputs": [
    {
     "name": "stdout",
     "output_type": "stream",
     "text": [
      "Highest Opening Price: 53.11\n"
     ]
    }
   ],
   "source": [
    "# Get high opening price\n",
    "high_opening = max(opening)\n",
    "print(f'Highest Opening Price: {high_opening}')"
   ]
  },
  {
   "cell_type": "code",
   "execution_count": 11,
   "metadata": {},
   "outputs": [
    {
     "name": "stdout",
     "output_type": "stream",
     "text": [
      "Lowest Opening Price: 34.0\n"
     ]
    }
   ],
   "source": [
    "# Get low opening price\n",
    "low_opening = min(opening)\n",
    "print(f'Lowest Opening Price: {low_opening}')"
   ]
  },
  {
   "cell_type": "markdown",
   "metadata": {},
   "source": [
    "### 4. What was the largest change in any one day (based on High and Low price)?"
   ]
  },
  {
   "cell_type": "code",
   "execution_count": 12,
   "metadata": {},
   "outputs": [
    {
     "data": {
      "text/plain": [
       "[(51.94, 51.45),\n",
       " (51.82, 51.43),\n",
       " (51.89, 50.76),\n",
       " (51.5, 50.92),\n",
       " (51.52, 50.9),\n",
       " (52.04, 51.2),\n",
       " (52.73, 51.07),\n",
       " (52.75, 51.61),\n",
       " (52.7, 51.64),\n",
       " (53.54, 52.15),\n",
       " (53.35, 52.48),\n",
       " (53.1, 51.82),\n",
       " (52.45, 51.26),\n",
       " (52.83, 51.28),\n",
       " (51.47, 50.81),\n",
       " (51.11, 50.39),\n",
       " (51.38, 50.4),\n",
       " (51.23, 49.5),\n",
       " (50.49, 49.17),\n",
       " (49.84, 48.28)]"
      ]
     },
     "execution_count": 12,
     "metadata": {},
     "output_type": "execute_result"
    }
   ],
   "source": [
    "# Get the index of the 'high' and 'low' prices\n",
    "high_idx = stock_json['dataset']['column_names'].index('High')\n",
    "low_idx = stock_json['dataset']['column_names'].index('Low')\n",
    "\n",
    "high_low = [(x[high_idx],x[low_idx]) for x in data_points]\n",
    "#display the first 20 elements of high_low\n",
    "high_low[0:20]"
   ]
  },
  {
   "cell_type": "code",
   "execution_count": 13,
   "metadata": {},
   "outputs": [
    {
     "data": {
      "text/plain": [
       "['0.49',\n",
       " '0.39',\n",
       " '1.13',\n",
       " '0.58',\n",
       " '0.62',\n",
       " '0.84',\n",
       " '1.66',\n",
       " '1.14',\n",
       " '1.06',\n",
       " '1.39',\n",
       " '0.87',\n",
       " '1.28',\n",
       " '1.19',\n",
       " '1.55',\n",
       " '0.66',\n",
       " '0.72',\n",
       " '0.98',\n",
       " '1.73',\n",
       " '1.32',\n",
       " '1.56']"
      ]
     },
     "execution_count": 13,
     "metadata": {},
     "output_type": "execute_result"
    }
   ],
   "source": [
    "# Get a list of all daily swings - use absolute value\n",
    "daily_swing = ['%.2f' % abs(high_low[i][0] - high_low[i][1]) for i in range(len(high_low)) \\\n",
    "               if high_low[i][0] is not None and high_low[i][1] is not None]\n",
    "# display the first 20 elements of daily_swing\n",
    "daily_swing[0:20]"
   ]
  },
  {
   "cell_type": "code",
   "execution_count": 14,
   "metadata": {},
   "outputs": [
    {
     "name": "stdout",
     "output_type": "stream",
     "text": [
      "Largest change in one day: 2.81\n"
     ]
    }
   ],
   "source": [
    "# get the largest daily swing\n",
    "max_swing = max(daily_swing)\n",
    "print(f'Largest change in one day: {max_swing}')"
   ]
  },
  {
   "cell_type": "markdown",
   "metadata": {},
   "source": [
    "### 5. What was the largest change between any two days (based on Closing Price)?"
   ]
  },
  {
   "cell_type": "code",
   "execution_count": 15,
   "metadata": {},
   "outputs": [
    {
     "data": {
      "text/plain": [
       "[51.76,\n",
       " 51.6,\n",
       " 51.82,\n",
       " 51.32,\n",
       " 51.4,\n",
       " 51.27,\n",
       " 51.66,\n",
       " 52.62,\n",
       " 52.01,\n",
       " 52.67,\n",
       " 53.09,\n",
       " 52.43,\n",
       " 52.14,\n",
       " 52.12,\n",
       " 51.47,\n",
       " 50.89,\n",
       " 51.25,\n",
       " 51.14,\n",
       " 49.86,\n",
       " 49.7]"
      ]
     },
     "execution_count": 15,
     "metadata": {},
     "output_type": "execute_result"
    }
   ],
   "source": [
    "# Create a list of all close prices\n",
    "close_idx = stock_json['dataset']['column_names'].index('Close')\n",
    "\n",
    "closing = [x[close_idx] for x in data_points if x[close_idx] is not None]\n",
    "# display the first 20 elements of closing\n",
    "closing[0:20]"
   ]
  },
  {
   "cell_type": "code",
   "execution_count": 16,
   "metadata": {},
   "outputs": [
    {
     "data": {
      "text/plain": [
       "['0.16',\n",
       " '0.22',\n",
       " '0.50',\n",
       " '0.08',\n",
       " '0.13',\n",
       " '0.39',\n",
       " '0.96',\n",
       " '0.61',\n",
       " '0.66',\n",
       " '0.42',\n",
       " '0.66',\n",
       " '0.29',\n",
       " '0.02',\n",
       " '0.65',\n",
       " '0.58',\n",
       " '0.36',\n",
       " '0.11',\n",
       " '1.28',\n",
       " '0.16',\n",
       " '0.95']"
      ]
     },
     "execution_count": 16,
     "metadata": {},
     "output_type": "execute_result"
    }
   ],
   "source": [
    "# Create a list composed of price changes between closing\n",
    "daily_close_change = [ '%.2f' % abs(closing[i] - closing[i-1]) for i in range(1, len(closing))]\n",
    "# display the first 20 elements of daily_close_change\n",
    "daily_close_change[0:20]"
   ]
  },
  {
   "cell_type": "code",
   "execution_count": 17,
   "metadata": {},
   "outputs": [
    {
     "name": "stdout",
     "output_type": "stream",
     "text": [
      "Largest change between two days: 2.56\n"
     ]
    }
   ],
   "source": [
    "# get the max from the list to view the largest change\n",
    "largest_change = max(daily_close_change)\n",
    "print(f'Largest change between two days: {largest_change}')"
   ]
  },
  {
   "cell_type": "markdown",
   "metadata": {},
   "source": [
    "### 6. What was the average daily trading volume during this year?"
   ]
  },
  {
   "cell_type": "code",
   "execution_count": 18,
   "metadata": {},
   "outputs": [],
   "source": [
    "# Get the 'Trading Volume' index\n",
    "traded_volume_idx = stock_json['dataset']['column_names'].index('Traded Volume')\n",
    "\n",
    "trading_volume = [x[traded_volume_idx] for x in data_points if x[traded_volume_idx] is not None]\n",
    "#display the first 20 elements of trading_volume"
   ]
  },
  {
   "cell_type": "code",
   "execution_count": 19,
   "metadata": {},
   "outputs": [
    {
     "name": "stdout",
     "output_type": "stream",
     "text": [
      "Average daily trading volume: 89124.34\n"
     ]
    }
   ],
   "source": [
    "# find the average (mean) daily trading volume\n",
    "# function for finding the mean of a list of numbers\n",
    "def lst_mean(lst: list) -> float:\n",
    "    lst = [float(x) for x in lst] # convert all items in the list to a float\n",
    "    return sum(lst)/len(lst)\n",
    "\n",
    "avg_trading = lst_mean(trading_volume)\n",
    "print(f'Average daily trading volume: ' + '%.2f' % avg_trading)"
   ]
  },
  {
   "cell_type": "markdown",
   "metadata": {},
   "source": [
    "### 7. What was the median trading volume during this year. (Note: you may need to implement your own function for calculating the median.)"
   ]
  },
  {
   "cell_type": "code",
   "execution_count": 20,
   "metadata": {},
   "outputs": [
    {
     "name": "stdout",
     "output_type": "stream",
     "text": [
      "Median daily trading volume: 76286.00\n"
     ]
    }
   ],
   "source": [
    "# Function that returns the medium of a list of numbers\n",
    "def lst_median(lst: list) -> float:\n",
    "    lst = sorted([float(x) for x in lst]) # convert all items in the list to a float and sort the list\n",
    "    lst_len = len(lst) # set lst_len to len(lst) so the function doe not have to be called multiple times\n",
    "    if lst_len%2 == 0: # check if the function is even\n",
    "        return (lst[int(lst_len/2)-1] + lst[-int(lst_len/2)]) / 2\n",
    "    else:\n",
    "        return lst[int(lst_len/2)]\n",
    "    \n",
    "median_trading = lst_median(trading_volume)\n",
    "print(f'Median daily trading volume: ' '%.2f' % median_trading)"
   ]
  }
 ],
 "metadata": {
  "kernelspec": {
   "display_name": "Python 3",
   "language": "python",
   "name": "python3"
  },
  "language_info": {
   "codemirror_mode": {
    "name": "ipython",
    "version": 3
   },
   "file_extension": ".py",
   "mimetype": "text/x-python",
   "name": "python",
   "nbconvert_exporter": "python",
   "pygments_lexer": "ipython3",
   "version": "3.8.8"
  }
 },
 "nbformat": 4,
 "nbformat_minor": 2
}
